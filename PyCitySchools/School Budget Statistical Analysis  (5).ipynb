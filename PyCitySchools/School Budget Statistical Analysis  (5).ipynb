{
 "cells": [
  {
   "cell_type": "markdown",
   "metadata": {},
   "source": [
    "## CONCLUSIONS FROM THE DATA \n",
    "\n",
    "###  1-Schools with higher budget per students have the lowest passing overall percentages. \n",
    "###  2-Students enrrolled in charter type schools have better performance than students in distric type schools.\n",
    "###  3-Averages for math scores are lower than average reading scores consisntly throughout the entire data.\n"
   ]
  },
  {
   "cell_type": "code",
   "execution_count": 1,
   "metadata": {},
   "outputs": [],
   "source": [
    "# Importing python libraries \n",
    "import pandas as pd\n",
    "import numpy as np "
   ]
  },
  {
   "cell_type": "code",
   "execution_count": 2,
   "metadata": {},
   "outputs": [],
   "source": [
    "# Loading the data for analysis \n",
    "\n",
    "Schools_Data_df = \"resources/schools_complete.csv\"\n",
    "Students_Data_df= \"resources/students_complete.csv\""
   ]
  },
  {
   "cell_type": "code",
   "execution_count": 3,
   "metadata": {},
   "outputs": [],
   "source": [
    "#read school and students data \n",
    "\n",
    "schools_df= pd.read_csv(Schools_Data_df)\n",
    "students_df= pd.read_csv(Students_Data_df)\n",
    "\n",
    "schools_df.rename(columns = {'name':'school'}, inplace = True)\n",
    "schools_df.head()\n",
    "\n",
    "\n",
    "merged_df = students_df.merge(schools_df, how = 'left', on = 'school')\n",
    "#students_df.head()"
   ]
  },
  {
   "cell_type": "code",
   "execution_count": 4,
   "metadata": {},
   "outputs": [],
   "source": [
    "#renames for merge\n",
    "schools_df.rename(columns = {'name':'school'}, inplace = True)\n",
    "\n",
    "\n"
   ]
  },
  {
   "cell_type": "markdown",
   "metadata": {},
   "source": [
    "## District Summary Table"
   ]
  },
  {
   "cell_type": "code",
   "execution_count": 5,
   "metadata": {},
   "outputs": [],
   "source": [
    "#merging the two data sets by using school names as common key \n",
    "\n",
    "# school_complete_data = pd.merge(schools_df,student_df, on=[\"school_name\"], how= \"left\")\n",
    "# school_complete_data.head()\n",
    "# complete_data= schools_df.merge(students_df, on='school', how='left')\n",
    "\n",
    "# merged_df = pd.merge(schools_df,students_df, on = \"name\", how=\"left\")\n",
    "# merged_df.head()\n",
    "\n",
    "school_data_complete = pd.merge(students_df, schools_df, how=\"left\", on=\"school\")\n",
    "\n"
   ]
  },
  {
   "cell_type": "code",
   "execution_count": 6,
   "metadata": {},
   "outputs": [
    {
     "data": {
      "text/plain": [
       "15"
      ]
     },
     "execution_count": 6,
     "metadata": {},
     "output_type": "execute_result"
    }
   ],
   "source": [
    "total_schools = len(schools_df)\n",
    "total_schools"
   ]
  },
  {
   "cell_type": "code",
   "execution_count": 7,
   "metadata": {},
   "outputs": [
    {
     "data": {
      "text/plain": [
       "39170"
      ]
     },
     "execution_count": 7,
     "metadata": {},
     "output_type": "execute_result"
    }
   ],
   "source": [
    "#total numeber of students \n",
    "total_students = len(school_data_complete)\n",
    "total_students "
   ]
  },
  {
   "cell_type": "code",
   "execution_count": 8,
   "metadata": {},
   "outputs": [
    {
     "data": {
      "text/plain": [
       "24649428"
      ]
     },
     "execution_count": 8,
     "metadata": {},
     "output_type": "execute_result"
    }
   ],
   "source": [
    "#total number of schools\n",
    "total_school_budget= schools_df['budget'].sum(numeric_only= False)\n",
    "total_school_budget"
   ]
  },
  {
   "cell_type": "code",
   "execution_count": 9,
   "metadata": {},
   "outputs": [
    {
     "data": {
      "text/plain": [
       "78.99"
      ]
     },
     "execution_count": 9,
     "metadata": {},
     "output_type": "execute_result"
    }
   ],
   "source": [
    "#math score average\n",
    "math_avg = students_df['math_score'].mean()\n",
    "np.round(math_avg, decimals=2)"
   ]
  },
  {
   "cell_type": "code",
   "execution_count": 10,
   "metadata": {},
   "outputs": [
    {
     "data": {
      "text/plain": [
       "81.88"
      ]
     },
     "execution_count": 10,
     "metadata": {},
     "output_type": "execute_result"
    }
   ],
   "source": [
    "#reading score average \n",
    "reading_avg = students_df['reading_score'].mean()\n",
    "np.round(reading_avg, decimals=2)"
   ]
  },
  {
   "cell_type": "code",
   "execution_count": 11,
   "metadata": {},
   "outputs": [
    {
     "data": {
      "text/plain": [
       "29370"
      ]
     },
     "execution_count": 11,
     "metadata": {},
     "output_type": "execute_result"
    }
   ],
   "source": [
    "# #math score passing percent\n",
    "\n",
    "passing_math = students_df.loc[students_df['math_score'] >= 70]['math_score'].count()\n",
    "passing_math"
   ]
  },
  {
   "cell_type": "code",
   "execution_count": 12,
   "metadata": {},
   "outputs": [
    {
     "data": {
      "text/plain": [
       "74.98"
      ]
     },
     "execution_count": 12,
     "metadata": {},
     "output_type": "execute_result"
    }
   ],
   "source": [
    "#calculatig math passing percentage \n",
    "percent_passing_math = (passing_math/total_students)*100\n",
    "np.round(percent_passing_math, decimals=2)"
   ]
  },
  {
   "cell_type": "code",
   "execution_count": 13,
   "metadata": {},
   "outputs": [
    {
     "data": {
      "text/plain": [
       "33610"
      ]
     },
     "execution_count": 13,
     "metadata": {},
     "output_type": "execute_result"
    }
   ],
   "source": [
    "# calculating number of students passing reading\n",
    "passing_reading = students_df.loc[students_df['reading_score'] >= 70]['reading_score'].count()\n",
    "passing_reading "
   ]
  },
  {
   "cell_type": "code",
   "execution_count": 14,
   "metadata": {},
   "outputs": [
    {
     "data": {
      "text/plain": [
       "85.81"
      ]
     },
     "execution_count": 14,
     "metadata": {},
     "output_type": "execute_result"
    }
   ],
   "source": [
    "#calculating reading passing percentage\n",
    "percent_passing_reading= np.round((passing_reading/total_students)*100,2)\n",
    "percent_passing_reading"
   ]
  },
  {
   "cell_type": "code",
   "execution_count": 15,
   "metadata": {},
   "outputs": [
    {
     "data": {
      "text/plain": [
       "80.4"
      ]
     },
     "execution_count": 15,
     "metadata": {},
     "output_type": "execute_result"
    }
   ],
   "source": [
    "#calculating_overall_passing_percentage\n",
    "overall_passing_rate= np.round((percent_passing_reading + percent_passing_math)/2,2)\n",
    "overall_passing_rate"
   ]
  },
  {
   "cell_type": "code",
   "execution_count": 16,
   "metadata": {},
   "outputs": [
    {
     "data": {
      "text/html": [
       "<style  type=\"text/css\" >\n",
       "</style>  \n",
       "<table id=\"T_5c1f6b5e_6abb_11e8_a84a_8c859026d06c\" > \n",
       "<thead>    <tr> \n",
       "        <th class=\"blank level0\" ></th> \n",
       "        <th class=\"col_heading level0 col0\" >Total Students</th> \n",
       "        <th class=\"col_heading level0 col1\" >Total Schools</th> \n",
       "        <th class=\"col_heading level0 col2\" >Total Budget</th> \n",
       "        <th class=\"col_heading level0 col3\" >Average Math Score</th> \n",
       "        <th class=\"col_heading level0 col4\" >Average Reading Score</th> \n",
       "        <th class=\"col_heading level0 col5\" >% Passing Math</th> \n",
       "        <th class=\"col_heading level0 col6\" >% Passing Reading</th> \n",
       "        <th class=\"col_heading level0 col7\" >Overall Passing Rate</th> \n",
       "    </tr></thead> \n",
       "<tbody>    <tr> \n",
       "        <th id=\"T_5c1f6b5e_6abb_11e8_a84a_8c859026d06clevel0_row0\" class=\"row_heading level0 row0\" >0</th> \n",
       "        <td id=\"T_5c1f6b5e_6abb_11e8_a84a_8c859026d06crow0_col0\" class=\"data row0 col0\" >39,170</td> \n",
       "        <td id=\"T_5c1f6b5e_6abb_11e8_a84a_8c859026d06crow0_col1\" class=\"data row0 col1\" >15</td> \n",
       "        <td id=\"T_5c1f6b5e_6abb_11e8_a84a_8c859026d06crow0_col2\" class=\"data row0 col2\" >$24,649,428</td> \n",
       "        <td id=\"T_5c1f6b5e_6abb_11e8_a84a_8c859026d06crow0_col3\" class=\"data row0 col3\" >79.0</td> \n",
       "        <td id=\"T_5c1f6b5e_6abb_11e8_a84a_8c859026d06crow0_col4\" class=\"data row0 col4\" >81.9</td> \n",
       "        <td id=\"T_5c1f6b5e_6abb_11e8_a84a_8c859026d06crow0_col5\" class=\"data row0 col5\" >75%</td> \n",
       "        <td id=\"T_5c1f6b5e_6abb_11e8_a84a_8c859026d06crow0_col6\" class=\"data row0 col6\" >86%</td> \n",
       "        <td id=\"T_5c1f6b5e_6abb_11e8_a84a_8c859026d06crow0_col7\" class=\"data row0 col7\" >80.40%</td> \n",
       "    </tr></tbody> \n",
       "</table> "
      ],
      "text/plain": [
       "<pandas.io.formats.style.Styler at 0x10fdb0dd8>"
      ]
     },
     "execution_count": 16,
     "metadata": {},
     "output_type": "execute_result"
    }
   ],
   "source": [
    "#constructing the new data_frame using dictionaries \n",
    "District_df = pd.DataFrame({\n",
    "                 \"Total Schools\" : [total_schools],\n",
    "                 'Total Students':[total_students],\n",
    "                 \"Total Budget\" :[total_school_budget],\n",
    "                 \"Average Math Score\" :[math_avg],\n",
    "                 \"Average Reading Score\" :[reading_avg],\n",
    "                 \"% Passing Math\" :[percent_passing_math],\n",
    "                 \"% Passing Reading\" :[percent_passing_reading],\n",
    "                 \"Overall Passing Rate\" :[overall_passing_rate] }, columns = [\"Total Students\", \"Total Schools\", \"Total Budget\", \"Average Math Score\", \"Average Reading Score\",\"% Passing Math\", \"% Passing Reading\", \"Overall Passing Rate\"])\n",
    "\n",
    "District_df.style.format({'Average Math Score': '{:.1f}', \n",
    "                         'Average Reading Score': '{:.1f}', \n",
    "                        '% Passing Math': '{:.0f}%', \n",
    "                         '% Passing Reading':'{:.0f}%', \n",
    "                        'Overall Passing Rate': '{:.2f}%',\n",
    "                         'Total Budget': \"${:,}\", \n",
    "                          'Total Students': \"{:,}\",})\n"
   ]
  },
  {
   "cell_type": "code",
   "execution_count": 17,
   "metadata": {},
   "outputs": [],
   "source": [
    "new_schools_df = schools_df.set_index([\"school\"])\n",
    "\n",
    "#Grouping by school to analyzed the data by school \n",
    "groupby_school = students_df.groupby(\"school\")\n",
    "\n",
    "# #school type \n",
    "sch_type = new_schools_df[\"type\"]\n",
    "\n",
    "# #total students \n",
    "sch_students= groupby_school['name'].count()\n",
    "\n",
    "# # Total School Budget \n",
    "sch_budget= new_schools_df[\"budget\"]\n",
    "\n",
    "\n",
    "\n",
    "# # #Per Student Budget \n",
    "per_student_bdgt = schools_df.set_index('school')['budget']/schools_df.set_index('school')['size']\n",
    "\n",
    "\n",
    "\n"
   ]
  },
  {
   "cell_type": "markdown",
   "metadata": {},
   "source": [
    "## SCHOOL  SUMMARY TABLE"
   ]
  },
  {
   "cell_type": "code",
   "execution_count": 18,
   "metadata": {},
   "outputs": [
    {
     "data": {
      "text/html": [
       "<div>\n",
       "<style scoped>\n",
       "    .dataframe tbody tr th:only-of-type {\n",
       "        vertical-align: middle;\n",
       "    }\n",
       "\n",
       "    .dataframe tbody tr th {\n",
       "        vertical-align: top;\n",
       "    }\n",
       "\n",
       "    .dataframe thead th {\n",
       "        text-align: right;\n",
       "    }\n",
       "</style>\n",
       "<table border=\"1\" class=\"dataframe\">\n",
       "  <thead>\n",
       "    <tr style=\"text-align: right;\">\n",
       "      <th></th>\n",
       "      <th>Budget</th>\n",
       "      <th>School Type</th>\n",
       "      <th>Total Students</th>\n",
       "      <th>Avg Math Score</th>\n",
       "      <th>Avg Reading Score</th>\n",
       "      <th>% Passing Math</th>\n",
       "      <th>% Passing Reading</th>\n",
       "      <th>% Passing Overall</th>\n",
       "    </tr>\n",
       "    <tr>\n",
       "      <th>School Name</th>\n",
       "      <th></th>\n",
       "      <th></th>\n",
       "      <th></th>\n",
       "      <th></th>\n",
       "      <th></th>\n",
       "      <th></th>\n",
       "      <th></th>\n",
       "      <th></th>\n",
       "    </tr>\n",
       "  </thead>\n",
       "  <tbody>\n",
       "    <tr>\n",
       "      <th>Huang High School</th>\n",
       "      <td>1910635</td>\n",
       "      <td>District</td>\n",
       "      <td>2917</td>\n",
       "      <td>78.985371</td>\n",
       "      <td>81.87784</td>\n",
       "      <td>65.683922</td>\n",
       "      <td>81.316421</td>\n",
       "      <td>53.513884</td>\n",
       "    </tr>\n",
       "    <tr>\n",
       "      <th>Figueroa High School</th>\n",
       "      <td>1884411</td>\n",
       "      <td>District</td>\n",
       "      <td>2949</td>\n",
       "      <td>78.985371</td>\n",
       "      <td>81.87784</td>\n",
       "      <td>65.988471</td>\n",
       "      <td>80.739234</td>\n",
       "      <td>53.204476</td>\n",
       "    </tr>\n",
       "    <tr>\n",
       "      <th>Shelton High School</th>\n",
       "      <td>1056600</td>\n",
       "      <td>Charter</td>\n",
       "      <td>1761</td>\n",
       "      <td>78.985371</td>\n",
       "      <td>81.87784</td>\n",
       "      <td>93.867121</td>\n",
       "      <td>95.854628</td>\n",
       "      <td>89.892107</td>\n",
       "    </tr>\n",
       "    <tr>\n",
       "      <th>Hernandez High School</th>\n",
       "      <td>3022020</td>\n",
       "      <td>District</td>\n",
       "      <td>4635</td>\n",
       "      <td>78.985371</td>\n",
       "      <td>81.87784</td>\n",
       "      <td>66.752967</td>\n",
       "      <td>80.862999</td>\n",
       "      <td>53.527508</td>\n",
       "    </tr>\n",
       "    <tr>\n",
       "      <th>Griffin High School</th>\n",
       "      <td>917500</td>\n",
       "      <td>Charter</td>\n",
       "      <td>1468</td>\n",
       "      <td>78.985371</td>\n",
       "      <td>81.87784</td>\n",
       "      <td>93.392371</td>\n",
       "      <td>97.138965</td>\n",
       "      <td>90.599455</td>\n",
       "    </tr>\n",
       "  </tbody>\n",
       "</table>\n",
       "</div>"
      ],
      "text/plain": [
       "                        Budget School Type  Total Students  Avg Math Score  \\\n",
       "School Name                                                                  \n",
       "Huang High School      1910635    District            2917       78.985371   \n",
       "Figueroa High School   1884411    District            2949       78.985371   \n",
       "Shelton High School    1056600     Charter            1761       78.985371   \n",
       "Hernandez High School  3022020    District            4635       78.985371   \n",
       "Griffin High School     917500     Charter            1468       78.985371   \n",
       "\n",
       "                       Avg Reading Score  % Passing Math  % Passing Reading  \\\n",
       "School Name                                                                   \n",
       "Huang High School               81.87784       65.683922          81.316421   \n",
       "Figueroa High School            81.87784       65.988471          80.739234   \n",
       "Shelton High School             81.87784       93.867121          95.854628   \n",
       "Hernandez High School           81.87784       66.752967          80.862999   \n",
       "Griffin High School             81.87784       93.392371          97.138965   \n",
       "\n",
       "                       % Passing Overall  \n",
       "School Name                               \n",
       "Huang High School              53.513884  \n",
       "Figueroa High School           53.204476  \n",
       "Shelton High School            89.892107  \n",
       "Hernandez High School          53.527508  \n",
       "Griffin High School            90.599455  "
      ]
     },
     "execution_count": 18,
     "metadata": {},
     "output_type": "execute_result"
    }
   ],
   "source": [
    "\n",
    "\n",
    "\n",
    "\n",
    "# Create the School Summary dataframe by intializing the starting value\n",
    "School_Summary_DF=pd.DataFrame({\"School Name\": schools_df[\"school\"],\n",
    "                               \"School Type\":schools_df[\"type\"],\n",
    "                               \"Budget\":schools_df[\"budget\"],\n",
    "                               \"Total Students\":schools_df[\"size\"]})\n",
    "# Find the count of student who passed math and reading separately in each school\n",
    "Count_passing_math = school_data_complete.loc[(students_df['math_score'] >= 70)].groupby([\"school\"]).count()[\"math_score\"]\n",
    "Count_passing_reading = school_data_complete.loc[(students_df['reading_score'] >= 70)].groupby([\"school\"]).count()[\"reading_score\"]\n",
    "Count_passing_overall = school_data_complete.loc[(school_data_complete['math_score'] >=70) \n",
    "                                           & (school_data_complete['reading_score'] >=70)].groupby([\"school\"]).count()[\"Student ID\"]\n",
    "# Create a temporary dataframe to store the calculated values\n",
    "temp_df=pd.DataFrame({\"Avg Math Score\": school_data_complete.mean()[\"math_score\"],\n",
    "                \"Avg Reading Score\": school_data_complete.mean()[\"reading_score\"],\n",
    "                \"Count of Passing Math\": Count_passing_math,\n",
    "                \"Count of Passing Reading\":Count_passing_reading,\n",
    "                \"Count of Passing Overall\":Count_passing_overall})\n",
    "# Reset the index so school becomes a column\n",
    "temp_df.reset_index(inplace=True)\n",
    "# Rename the column school before merging\n",
    "temp_df = temp_df.rename(columns={\"school\":\"School Name\"})\n",
    "# Merge both the Summary dataframe and the temporary dataframe on School Name\n",
    "School_Summary_DF=pd.merge(School_Summary_DF,temp_df,how=\"outer\",on=\"School Name\")\n",
    "# Calculate the remaining values\n",
    "School_Summary_DF[\"% Passing Math\"]=(School_Summary_DF[\"Count of Passing Math\"]/School_Summary_DF[\"Total Students\"])*100\n",
    "School_Summary_DF[\"% Passing Reading\"]=(School_Summary_DF[\"Count of Passing Reading\"]/School_Summary_DF[\"Total Students\"])*100\n",
    "School_Summary_DF[\"% Passing Overall\"]=(School_Summary_DF[\"Count of Passing Overall\"]/School_Summary_DF[\"Total Students\"])*100\n",
    "# Drop the columns after computation\n",
    "School_Summary_DF.drop([\"Count of Passing Math\",\"Count of Passing Reading\",\"Count of Passing Overall\"],axis=1,inplace=True)\n",
    "# Set the index as School Name\n",
    "School_Summary_DF.set_index(\"School Name\",inplace=True)\n",
    "\n",
    "School_Summary_DF.head()\n",
    "\n",
    "\n"
   ]
  },
  {
   "cell_type": "markdown",
   "metadata": {},
   "source": [
    "## TOP 5 PERFORMING SCHOOLS "
   ]
  },
  {
   "cell_type": "code",
   "execution_count": 19,
   "metadata": {},
   "outputs": [
    {
     "data": {
      "text/html": [
       "<div>\n",
       "<style scoped>\n",
       "    .dataframe tbody tr th:only-of-type {\n",
       "        vertical-align: middle;\n",
       "    }\n",
       "\n",
       "    .dataframe tbody tr th {\n",
       "        vertical-align: top;\n",
       "    }\n",
       "\n",
       "    .dataframe thead th {\n",
       "        text-align: right;\n",
       "    }\n",
       "</style>\n",
       "<table border=\"1\" class=\"dataframe\">\n",
       "  <thead>\n",
       "    <tr style=\"text-align: right;\">\n",
       "      <th></th>\n",
       "      <th>Budget</th>\n",
       "      <th>School Type</th>\n",
       "      <th>Total Students</th>\n",
       "      <th>Avg Math Score</th>\n",
       "      <th>Avg Reading Score</th>\n",
       "      <th>% Passing Math</th>\n",
       "      <th>% Passing Reading</th>\n",
       "      <th>% Passing Overall</th>\n",
       "    </tr>\n",
       "    <tr>\n",
       "      <th>School Name</th>\n",
       "      <th></th>\n",
       "      <th></th>\n",
       "      <th></th>\n",
       "      <th></th>\n",
       "      <th></th>\n",
       "      <th></th>\n",
       "      <th></th>\n",
       "      <th></th>\n",
       "    </tr>\n",
       "  </thead>\n",
       "  <tbody>\n",
       "    <tr>\n",
       "      <th>Cabrera High School</th>\n",
       "      <td>1081356</td>\n",
       "      <td>Charter</td>\n",
       "      <td>1858</td>\n",
       "      <td>78.985371</td>\n",
       "      <td>81.87784</td>\n",
       "      <td>94.133477</td>\n",
       "      <td>97.039828</td>\n",
       "      <td>91.334769</td>\n",
       "    </tr>\n",
       "    <tr>\n",
       "      <th>Thomas High School</th>\n",
       "      <td>1043130</td>\n",
       "      <td>Charter</td>\n",
       "      <td>1635</td>\n",
       "      <td>78.985371</td>\n",
       "      <td>81.87784</td>\n",
       "      <td>93.272171</td>\n",
       "      <td>97.308869</td>\n",
       "      <td>90.948012</td>\n",
       "    </tr>\n",
       "    <tr>\n",
       "      <th>Griffin High School</th>\n",
       "      <td>917500</td>\n",
       "      <td>Charter</td>\n",
       "      <td>1468</td>\n",
       "      <td>78.985371</td>\n",
       "      <td>81.87784</td>\n",
       "      <td>93.392371</td>\n",
       "      <td>97.138965</td>\n",
       "      <td>90.599455</td>\n",
       "    </tr>\n",
       "    <tr>\n",
       "      <th>Wilson High School</th>\n",
       "      <td>1319574</td>\n",
       "      <td>Charter</td>\n",
       "      <td>2283</td>\n",
       "      <td>78.985371</td>\n",
       "      <td>81.87784</td>\n",
       "      <td>93.867718</td>\n",
       "      <td>96.539641</td>\n",
       "      <td>90.582567</td>\n",
       "    </tr>\n",
       "    <tr>\n",
       "      <th>Pena High School</th>\n",
       "      <td>585858</td>\n",
       "      <td>Charter</td>\n",
       "      <td>962</td>\n",
       "      <td>78.985371</td>\n",
       "      <td>81.87784</td>\n",
       "      <td>94.594595</td>\n",
       "      <td>95.945946</td>\n",
       "      <td>90.540541</td>\n",
       "    </tr>\n",
       "  </tbody>\n",
       "</table>\n",
       "</div>"
      ],
      "text/plain": [
       "                      Budget School Type  Total Students  Avg Math Score  \\\n",
       "School Name                                                                \n",
       "Cabrera High School  1081356     Charter            1858       78.985371   \n",
       "Thomas High School   1043130     Charter            1635       78.985371   \n",
       "Griffin High School   917500     Charter            1468       78.985371   \n",
       "Wilson High School   1319574     Charter            2283       78.985371   \n",
       "Pena High School      585858     Charter             962       78.985371   \n",
       "\n",
       "                     Avg Reading Score  % Passing Math  % Passing Reading  \\\n",
       "School Name                                                                 \n",
       "Cabrera High School           81.87784       94.133477          97.039828   \n",
       "Thomas High School            81.87784       93.272171          97.308869   \n",
       "Griffin High School           81.87784       93.392371          97.138965   \n",
       "Wilson High School            81.87784       93.867718          96.539641   \n",
       "Pena High School              81.87784       94.594595          95.945946   \n",
       "\n",
       "                     % Passing Overall  \n",
       "School Name                             \n",
       "Cabrera High School          91.334769  \n",
       "Thomas High School           90.948012  \n",
       "Griffin High School          90.599455  \n",
       "Wilson High School           90.582567  \n",
       "Pena High School             90.540541  "
      ]
     },
     "execution_count": 19,
     "metadata": {},
     "output_type": "execute_result"
    }
   ],
   "source": [
    "#top 5 Peforming Schools \n",
    "\n",
    "top_5 = School_Summary_DF.sort_values(by=\"% Passing Overall\",ascending=False)\n",
    "top_5.head()"
   ]
  },
  {
   "cell_type": "markdown",
   "metadata": {},
   "source": [
    "## BOTTOM 5 PERFORMING SCHOOLS "
   ]
  },
  {
   "cell_type": "code",
   "execution_count": 20,
   "metadata": {},
   "outputs": [
    {
     "data": {
      "text/html": [
       "<div>\n",
       "<style scoped>\n",
       "    .dataframe tbody tr th:only-of-type {\n",
       "        vertical-align: middle;\n",
       "    }\n",
       "\n",
       "    .dataframe tbody tr th {\n",
       "        vertical-align: top;\n",
       "    }\n",
       "\n",
       "    .dataframe thead th {\n",
       "        text-align: right;\n",
       "    }\n",
       "</style>\n",
       "<table border=\"1\" class=\"dataframe\">\n",
       "  <thead>\n",
       "    <tr style=\"text-align: right;\">\n",
       "      <th></th>\n",
       "      <th>Budget</th>\n",
       "      <th>School Type</th>\n",
       "      <th>Total Students</th>\n",
       "      <th>Avg Math Score</th>\n",
       "      <th>Avg Reading Score</th>\n",
       "      <th>% Passing Math</th>\n",
       "      <th>% Passing Reading</th>\n",
       "      <th>% Passing Overall</th>\n",
       "    </tr>\n",
       "    <tr>\n",
       "      <th>School Name</th>\n",
       "      <th></th>\n",
       "      <th></th>\n",
       "      <th></th>\n",
       "      <th></th>\n",
       "      <th></th>\n",
       "      <th></th>\n",
       "      <th></th>\n",
       "      <th></th>\n",
       "    </tr>\n",
       "  </thead>\n",
       "  <tbody>\n",
       "    <tr>\n",
       "      <th>Rodriguez High School</th>\n",
       "      <td>2547363</td>\n",
       "      <td>District</td>\n",
       "      <td>3999</td>\n",
       "      <td>78.985371</td>\n",
       "      <td>81.87784</td>\n",
       "      <td>66.366592</td>\n",
       "      <td>80.220055</td>\n",
       "      <td>52.988247</td>\n",
       "    </tr>\n",
       "    <tr>\n",
       "      <th>Figueroa High School</th>\n",
       "      <td>1884411</td>\n",
       "      <td>District</td>\n",
       "      <td>2949</td>\n",
       "      <td>78.985371</td>\n",
       "      <td>81.87784</td>\n",
       "      <td>65.988471</td>\n",
       "      <td>80.739234</td>\n",
       "      <td>53.204476</td>\n",
       "    </tr>\n",
       "    <tr>\n",
       "      <th>Huang High School</th>\n",
       "      <td>1910635</td>\n",
       "      <td>District</td>\n",
       "      <td>2917</td>\n",
       "      <td>78.985371</td>\n",
       "      <td>81.87784</td>\n",
       "      <td>65.683922</td>\n",
       "      <td>81.316421</td>\n",
       "      <td>53.513884</td>\n",
       "    </tr>\n",
       "    <tr>\n",
       "      <th>Hernandez High School</th>\n",
       "      <td>3022020</td>\n",
       "      <td>District</td>\n",
       "      <td>4635</td>\n",
       "      <td>78.985371</td>\n",
       "      <td>81.87784</td>\n",
       "      <td>66.752967</td>\n",
       "      <td>80.862999</td>\n",
       "      <td>53.527508</td>\n",
       "    </tr>\n",
       "    <tr>\n",
       "      <th>Johnson High School</th>\n",
       "      <td>3094650</td>\n",
       "      <td>District</td>\n",
       "      <td>4761</td>\n",
       "      <td>78.985371</td>\n",
       "      <td>81.87784</td>\n",
       "      <td>66.057551</td>\n",
       "      <td>81.222432</td>\n",
       "      <td>53.539172</td>\n",
       "    </tr>\n",
       "  </tbody>\n",
       "</table>\n",
       "</div>"
      ],
      "text/plain": [
       "                        Budget School Type  Total Students  Avg Math Score  \\\n",
       "School Name                                                                  \n",
       "Rodriguez High School  2547363    District            3999       78.985371   \n",
       "Figueroa High School   1884411    District            2949       78.985371   \n",
       "Huang High School      1910635    District            2917       78.985371   \n",
       "Hernandez High School  3022020    District            4635       78.985371   \n",
       "Johnson High School    3094650    District            4761       78.985371   \n",
       "\n",
       "                       Avg Reading Score  % Passing Math  % Passing Reading  \\\n",
       "School Name                                                                   \n",
       "Rodriguez High School           81.87784       66.366592          80.220055   \n",
       "Figueroa High School            81.87784       65.988471          80.739234   \n",
       "Huang High School               81.87784       65.683922          81.316421   \n",
       "Hernandez High School           81.87784       66.752967          80.862999   \n",
       "Johnson High School             81.87784       66.057551          81.222432   \n",
       "\n",
       "                       % Passing Overall  \n",
       "School Name                               \n",
       "Rodriguez High School          52.988247  \n",
       "Figueroa High School           53.204476  \n",
       "Huang High School              53.513884  \n",
       "Hernandez High School          53.527508  \n",
       "Johnson High School            53.539172  "
      ]
     },
     "execution_count": 20,
     "metadata": {},
     "output_type": "execute_result"
    }
   ],
   "source": [
    "#bottom 5 \n",
    "\n",
    "bottom_5 = School_Summary_DF.sort_values(by = '% Passing Overall', ascending= True)\n",
    "bottom_5.head()"
   ]
  },
  {
   "cell_type": "markdown",
   "metadata": {},
   "source": [
    "## MATH SCORES BY GRADE"
   ]
  },
  {
   "cell_type": "code",
   "execution_count": 21,
   "metadata": {},
   "outputs": [
    {
     "data": {
      "text/html": [
       "<style  type=\"text/css\" >\n",
       "</style>  \n",
       "<table id=\"T_6378f4c6_6abb_11e8_9f8b_8c859026d06c\" > \n",
       "<thead>    <tr> \n",
       "        <th class=\"blank level0\" ></th> \n",
       "        <th class=\"col_heading level0 col0\" >9th</th> \n",
       "        <th class=\"col_heading level0 col1\" >10th</th> \n",
       "        <th class=\"col_heading level0 col2\" >11th</th> \n",
       "        <th class=\"col_heading level0 col3\" >12th</th> \n",
       "    </tr>    <tr> \n",
       "        <th class=\"index_name level0\" >School Name</th> \n",
       "        <th class=\"blank\" ></th> \n",
       "        <th class=\"blank\" ></th> \n",
       "        <th class=\"blank\" ></th> \n",
       "        <th class=\"blank\" ></th> \n",
       "    </tr></thead> \n",
       "<tbody>    <tr> \n",
       "        <th id=\"T_6378f4c6_6abb_11e8_9f8b_8c859026d06clevel0_row0\" class=\"row_heading level0 row0\" >Bailey High School</th> \n",
       "        <td id=\"T_6378f4c6_6abb_11e8_9f8b_8c859026d06crow0_col0\" class=\"data row0 col0\" >77.1</td> \n",
       "        <td id=\"T_6378f4c6_6abb_11e8_9f8b_8c859026d06crow0_col1\" class=\"data row0 col1\" >77.0</td> \n",
       "        <td id=\"T_6378f4c6_6abb_11e8_9f8b_8c859026d06crow0_col2\" class=\"data row0 col2\" >77.5</td> \n",
       "        <td id=\"T_6378f4c6_6abb_11e8_9f8b_8c859026d06crow0_col3\" class=\"data row0 col3\" >76.5</td> \n",
       "    </tr>    <tr> \n",
       "        <th id=\"T_6378f4c6_6abb_11e8_9f8b_8c859026d06clevel0_row1\" class=\"row_heading level0 row1\" >Cabrera High School</th> \n",
       "        <td id=\"T_6378f4c6_6abb_11e8_9f8b_8c859026d06crow1_col0\" class=\"data row1 col0\" >83.1</td> \n",
       "        <td id=\"T_6378f4c6_6abb_11e8_9f8b_8c859026d06crow1_col1\" class=\"data row1 col1\" >83.2</td> \n",
       "        <td id=\"T_6378f4c6_6abb_11e8_9f8b_8c859026d06crow1_col2\" class=\"data row1 col2\" >82.8</td> \n",
       "        <td id=\"T_6378f4c6_6abb_11e8_9f8b_8c859026d06crow1_col3\" class=\"data row1 col3\" >83.3</td> \n",
       "    </tr>    <tr> \n",
       "        <th id=\"T_6378f4c6_6abb_11e8_9f8b_8c859026d06clevel0_row2\" class=\"row_heading level0 row2\" >Figueroa High School</th> \n",
       "        <td id=\"T_6378f4c6_6abb_11e8_9f8b_8c859026d06crow2_col0\" class=\"data row2 col0\" >76.4</td> \n",
       "        <td id=\"T_6378f4c6_6abb_11e8_9f8b_8c859026d06crow2_col1\" class=\"data row2 col1\" >76.5</td> \n",
       "        <td id=\"T_6378f4c6_6abb_11e8_9f8b_8c859026d06crow2_col2\" class=\"data row2 col2\" >76.9</td> \n",
       "        <td id=\"T_6378f4c6_6abb_11e8_9f8b_8c859026d06crow2_col3\" class=\"data row2 col3\" >77.2</td> \n",
       "    </tr>    <tr> \n",
       "        <th id=\"T_6378f4c6_6abb_11e8_9f8b_8c859026d06clevel0_row3\" class=\"row_heading level0 row3\" >Ford High School</th> \n",
       "        <td id=\"T_6378f4c6_6abb_11e8_9f8b_8c859026d06crow3_col0\" class=\"data row3 col0\" >77.4</td> \n",
       "        <td id=\"T_6378f4c6_6abb_11e8_9f8b_8c859026d06crow3_col1\" class=\"data row3 col1\" >77.7</td> \n",
       "        <td id=\"T_6378f4c6_6abb_11e8_9f8b_8c859026d06crow3_col2\" class=\"data row3 col2\" >76.9</td> \n",
       "        <td id=\"T_6378f4c6_6abb_11e8_9f8b_8c859026d06crow3_col3\" class=\"data row3 col3\" >76.2</td> \n",
       "    </tr>    <tr> \n",
       "        <th id=\"T_6378f4c6_6abb_11e8_9f8b_8c859026d06clevel0_row4\" class=\"row_heading level0 row4\" >Griffin High School</th> \n",
       "        <td id=\"T_6378f4c6_6abb_11e8_9f8b_8c859026d06crow4_col0\" class=\"data row4 col0\" >82.0</td> \n",
       "        <td id=\"T_6378f4c6_6abb_11e8_9f8b_8c859026d06crow4_col1\" class=\"data row4 col1\" >84.2</td> \n",
       "        <td id=\"T_6378f4c6_6abb_11e8_9f8b_8c859026d06crow4_col2\" class=\"data row4 col2\" >83.8</td> \n",
       "        <td id=\"T_6378f4c6_6abb_11e8_9f8b_8c859026d06crow4_col3\" class=\"data row4 col3\" >83.4</td> \n",
       "    </tr>    <tr> \n",
       "        <th id=\"T_6378f4c6_6abb_11e8_9f8b_8c859026d06clevel0_row5\" class=\"row_heading level0 row5\" >Hernandez High School</th> \n",
       "        <td id=\"T_6378f4c6_6abb_11e8_9f8b_8c859026d06crow5_col0\" class=\"data row5 col0\" >77.4</td> \n",
       "        <td id=\"T_6378f4c6_6abb_11e8_9f8b_8c859026d06crow5_col1\" class=\"data row5 col1\" >77.3</td> \n",
       "        <td id=\"T_6378f4c6_6abb_11e8_9f8b_8c859026d06crow5_col2\" class=\"data row5 col2\" >77.1</td> \n",
       "        <td id=\"T_6378f4c6_6abb_11e8_9f8b_8c859026d06crow5_col3\" class=\"data row5 col3\" >77.2</td> \n",
       "    </tr>    <tr> \n",
       "        <th id=\"T_6378f4c6_6abb_11e8_9f8b_8c859026d06clevel0_row6\" class=\"row_heading level0 row6\" >Holden High School</th> \n",
       "        <td id=\"T_6378f4c6_6abb_11e8_9f8b_8c859026d06crow6_col0\" class=\"data row6 col0\" >83.8</td> \n",
       "        <td id=\"T_6378f4c6_6abb_11e8_9f8b_8c859026d06crow6_col1\" class=\"data row6 col1\" >83.4</td> \n",
       "        <td id=\"T_6378f4c6_6abb_11e8_9f8b_8c859026d06crow6_col2\" class=\"data row6 col2\" >85.0</td> \n",
       "        <td id=\"T_6378f4c6_6abb_11e8_9f8b_8c859026d06crow6_col3\" class=\"data row6 col3\" >82.9</td> \n",
       "    </tr>    <tr> \n",
       "        <th id=\"T_6378f4c6_6abb_11e8_9f8b_8c859026d06clevel0_row7\" class=\"row_heading level0 row7\" >Huang High School</th> \n",
       "        <td id=\"T_6378f4c6_6abb_11e8_9f8b_8c859026d06crow7_col0\" class=\"data row7 col0\" >77.0</td> \n",
       "        <td id=\"T_6378f4c6_6abb_11e8_9f8b_8c859026d06crow7_col1\" class=\"data row7 col1\" >75.9</td> \n",
       "        <td id=\"T_6378f4c6_6abb_11e8_9f8b_8c859026d06crow7_col2\" class=\"data row7 col2\" >76.4</td> \n",
       "        <td id=\"T_6378f4c6_6abb_11e8_9f8b_8c859026d06crow7_col3\" class=\"data row7 col3\" >77.2</td> \n",
       "    </tr>    <tr> \n",
       "        <th id=\"T_6378f4c6_6abb_11e8_9f8b_8c859026d06clevel0_row8\" class=\"row_heading level0 row8\" >Johnson High School</th> \n",
       "        <td id=\"T_6378f4c6_6abb_11e8_9f8b_8c859026d06crow8_col0\" class=\"data row8 col0\" >77.2</td> \n",
       "        <td id=\"T_6378f4c6_6abb_11e8_9f8b_8c859026d06crow8_col1\" class=\"data row8 col1\" >76.7</td> \n",
       "        <td id=\"T_6378f4c6_6abb_11e8_9f8b_8c859026d06crow8_col2\" class=\"data row8 col2\" >77.5</td> \n",
       "        <td id=\"T_6378f4c6_6abb_11e8_9f8b_8c859026d06crow8_col3\" class=\"data row8 col3\" >76.9</td> \n",
       "    </tr>    <tr> \n",
       "        <th id=\"T_6378f4c6_6abb_11e8_9f8b_8c859026d06clevel0_row9\" class=\"row_heading level0 row9\" >Pena High School</th> \n",
       "        <td id=\"T_6378f4c6_6abb_11e8_9f8b_8c859026d06crow9_col0\" class=\"data row9 col0\" >83.6</td> \n",
       "        <td id=\"T_6378f4c6_6abb_11e8_9f8b_8c859026d06crow9_col1\" class=\"data row9 col1\" >83.4</td> \n",
       "        <td id=\"T_6378f4c6_6abb_11e8_9f8b_8c859026d06crow9_col2\" class=\"data row9 col2\" >84.3</td> \n",
       "        <td id=\"T_6378f4c6_6abb_11e8_9f8b_8c859026d06crow9_col3\" class=\"data row9 col3\" >84.1</td> \n",
       "    </tr>    <tr> \n",
       "        <th id=\"T_6378f4c6_6abb_11e8_9f8b_8c859026d06clevel0_row10\" class=\"row_heading level0 row10\" >Rodriguez High School</th> \n",
       "        <td id=\"T_6378f4c6_6abb_11e8_9f8b_8c859026d06crow10_col0\" class=\"data row10 col0\" >76.9</td> \n",
       "        <td id=\"T_6378f4c6_6abb_11e8_9f8b_8c859026d06crow10_col1\" class=\"data row10 col1\" >76.6</td> \n",
       "        <td id=\"T_6378f4c6_6abb_11e8_9f8b_8c859026d06crow10_col2\" class=\"data row10 col2\" >76.4</td> \n",
       "        <td id=\"T_6378f4c6_6abb_11e8_9f8b_8c859026d06crow10_col3\" class=\"data row10 col3\" >77.7</td> \n",
       "    </tr>    <tr> \n",
       "        <th id=\"T_6378f4c6_6abb_11e8_9f8b_8c859026d06clevel0_row11\" class=\"row_heading level0 row11\" >Shelton High School</th> \n",
       "        <td id=\"T_6378f4c6_6abb_11e8_9f8b_8c859026d06crow11_col0\" class=\"data row11 col0\" >83.4</td> \n",
       "        <td id=\"T_6378f4c6_6abb_11e8_9f8b_8c859026d06crow11_col1\" class=\"data row11 col1\" >82.9</td> \n",
       "        <td id=\"T_6378f4c6_6abb_11e8_9f8b_8c859026d06crow11_col2\" class=\"data row11 col2\" >83.4</td> \n",
       "        <td id=\"T_6378f4c6_6abb_11e8_9f8b_8c859026d06crow11_col3\" class=\"data row11 col3\" >83.8</td> \n",
       "    </tr>    <tr> \n",
       "        <th id=\"T_6378f4c6_6abb_11e8_9f8b_8c859026d06clevel0_row12\" class=\"row_heading level0 row12\" >Thomas High School</th> \n",
       "        <td id=\"T_6378f4c6_6abb_11e8_9f8b_8c859026d06crow12_col0\" class=\"data row12 col0\" >83.6</td> \n",
       "        <td id=\"T_6378f4c6_6abb_11e8_9f8b_8c859026d06crow12_col1\" class=\"data row12 col1\" >83.1</td> \n",
       "        <td id=\"T_6378f4c6_6abb_11e8_9f8b_8c859026d06crow12_col2\" class=\"data row12 col2\" >83.5</td> \n",
       "        <td id=\"T_6378f4c6_6abb_11e8_9f8b_8c859026d06crow12_col3\" class=\"data row12 col3\" >83.5</td> \n",
       "    </tr>    <tr> \n",
       "        <th id=\"T_6378f4c6_6abb_11e8_9f8b_8c859026d06clevel0_row13\" class=\"row_heading level0 row13\" >Wilson High School</th> \n",
       "        <td id=\"T_6378f4c6_6abb_11e8_9f8b_8c859026d06crow13_col0\" class=\"data row13 col0\" >83.1</td> \n",
       "        <td id=\"T_6378f4c6_6abb_11e8_9f8b_8c859026d06crow13_col1\" class=\"data row13 col1\" >83.7</td> \n",
       "        <td id=\"T_6378f4c6_6abb_11e8_9f8b_8c859026d06crow13_col2\" class=\"data row13 col2\" >83.2</td> \n",
       "        <td id=\"T_6378f4c6_6abb_11e8_9f8b_8c859026d06crow13_col3\" class=\"data row13 col3\" >83.0</td> \n",
       "    </tr>    <tr> \n",
       "        <th id=\"T_6378f4c6_6abb_11e8_9f8b_8c859026d06clevel0_row14\" class=\"row_heading level0 row14\" >Wright High School</th> \n",
       "        <td id=\"T_6378f4c6_6abb_11e8_9f8b_8c859026d06crow14_col0\" class=\"data row14 col0\" >83.3</td> \n",
       "        <td id=\"T_6378f4c6_6abb_11e8_9f8b_8c859026d06crow14_col1\" class=\"data row14 col1\" >84.0</td> \n",
       "        <td id=\"T_6378f4c6_6abb_11e8_9f8b_8c859026d06crow14_col2\" class=\"data row14 col2\" >83.8</td> \n",
       "        <td id=\"T_6378f4c6_6abb_11e8_9f8b_8c859026d06crow14_col3\" class=\"data row14 col3\" >83.6</td> \n",
       "    </tr></tbody> \n",
       "</table> "
      ],
      "text/plain": [
       "<pandas.io.formats.style.Styler at 0x1120c5908>"
      ]
     },
     "execution_count": 21,
     "metadata": {},
     "output_type": "execute_result"
    }
   ],
   "source": [
    "#Math Scores by Grade \n",
    "\n",
    "\n",
    "#creates grade level average math scores for each school \n",
    "#creates grade level average math scores for each school \n",
    "ninth_grade_math = students_df.loc[students_df['grade'] == '9th'].groupby('school')['math_score'].mean()\n",
    "tenth_grade_math = students_df.loc[students_df['grade']== '10th'].groupby('school')['math_score'].mean()\n",
    "eleventh_grade_math= students_df.loc[students_df['grade']== '11th'].groupby('school')['math_score'].mean()\n",
    "twelveth_grade_math= students_df.loc[students_df['grade']=='12th'].groupby('school')['math_score'].mean()\n",
    "\n",
    "math_scores_by_grade = pd.DataFrame({ '9th': ninth_grade_math,\n",
    "                                     '10th': tenth_grade_math, \n",
    "                                     '11th':eleventh_grade_math, \n",
    "                                     '12th':twelveth_grade_math})\n",
    "\n",
    "math_scores_by_grade= math_scores_by_grade[['9th', '10th', '11th', '12th']]\n",
    "math_scores_by_grade.index.name = \"School Name\"\n",
    "\n",
    "#format\n",
    "math_scores_by_grade.style.format({'9th': '{:.1f}', \n",
    "                             \"10th\": '{:.1f}', \n",
    "                             \"11th\": \"{:.1f}\", \n",
    "                             \"12th\": \"{:.1f}\"})\n"
   ]
  },
  {
   "cell_type": "markdown",
   "metadata": {},
   "source": [
    "## READING SCORES BY GRADE "
   ]
  },
  {
   "cell_type": "code",
   "execution_count": 22,
   "metadata": {},
   "outputs": [
    {
     "data": {
      "text/html": [
       "<style  type=\"text/css\" >\n",
       "</style>  \n",
       "<table id=\"T_63818512_6abb_11e8_81d2_8c859026d06c\" > \n",
       "<thead>    <tr> \n",
       "        <th class=\"blank level0\" ></th> \n",
       "        <th class=\"col_heading level0 col0\" >9th</th> \n",
       "        <th class=\"col_heading level0 col1\" >10th</th> \n",
       "        <th class=\"col_heading level0 col2\" >11th</th> \n",
       "        <th class=\"col_heading level0 col3\" >12th</th> \n",
       "    </tr>    <tr> \n",
       "        <th class=\"index_name level0\" >School Name</th> \n",
       "        <th class=\"blank\" ></th> \n",
       "        <th class=\"blank\" ></th> \n",
       "        <th class=\"blank\" ></th> \n",
       "        <th class=\"blank\" ></th> \n",
       "    </tr></thead> \n",
       "<tbody>    <tr> \n",
       "        <th id=\"T_63818512_6abb_11e8_81d2_8c859026d06clevel0_row0\" class=\"row_heading level0 row0\" >Bailey High School</th> \n",
       "        <td id=\"T_63818512_6abb_11e8_81d2_8c859026d06crow0_col0\" class=\"data row0 col0\" >81.3</td> \n",
       "        <td id=\"T_63818512_6abb_11e8_81d2_8c859026d06crow0_col1\" class=\"data row0 col1\" >80.9</td> \n",
       "        <td id=\"T_63818512_6abb_11e8_81d2_8c859026d06crow0_col2\" class=\"data row0 col2\" >80.9</td> \n",
       "        <td id=\"T_63818512_6abb_11e8_81d2_8c859026d06crow0_col3\" class=\"data row0 col3\" >80.9</td> \n",
       "    </tr>    <tr> \n",
       "        <th id=\"T_63818512_6abb_11e8_81d2_8c859026d06clevel0_row1\" class=\"row_heading level0 row1\" >Cabrera High School</th> \n",
       "        <td id=\"T_63818512_6abb_11e8_81d2_8c859026d06crow1_col0\" class=\"data row1 col0\" >83.7</td> \n",
       "        <td id=\"T_63818512_6abb_11e8_81d2_8c859026d06crow1_col1\" class=\"data row1 col1\" >84.3</td> \n",
       "        <td id=\"T_63818512_6abb_11e8_81d2_8c859026d06crow1_col2\" class=\"data row1 col2\" >83.8</td> \n",
       "        <td id=\"T_63818512_6abb_11e8_81d2_8c859026d06crow1_col3\" class=\"data row1 col3\" >84.3</td> \n",
       "    </tr>    <tr> \n",
       "        <th id=\"T_63818512_6abb_11e8_81d2_8c859026d06clevel0_row2\" class=\"row_heading level0 row2\" >Figueroa High School</th> \n",
       "        <td id=\"T_63818512_6abb_11e8_81d2_8c859026d06crow2_col0\" class=\"data row2 col0\" >81.2</td> \n",
       "        <td id=\"T_63818512_6abb_11e8_81d2_8c859026d06crow2_col1\" class=\"data row2 col1\" >81.4</td> \n",
       "        <td id=\"T_63818512_6abb_11e8_81d2_8c859026d06crow2_col2\" class=\"data row2 col2\" >80.6</td> \n",
       "        <td id=\"T_63818512_6abb_11e8_81d2_8c859026d06crow2_col3\" class=\"data row2 col3\" >81.4</td> \n",
       "    </tr>    <tr> \n",
       "        <th id=\"T_63818512_6abb_11e8_81d2_8c859026d06clevel0_row3\" class=\"row_heading level0 row3\" >Ford High School</th> \n",
       "        <td id=\"T_63818512_6abb_11e8_81d2_8c859026d06crow3_col0\" class=\"data row3 col0\" >80.6</td> \n",
       "        <td id=\"T_63818512_6abb_11e8_81d2_8c859026d06crow3_col1\" class=\"data row3 col1\" >81.3</td> \n",
       "        <td id=\"T_63818512_6abb_11e8_81d2_8c859026d06crow3_col2\" class=\"data row3 col2\" >80.4</td> \n",
       "        <td id=\"T_63818512_6abb_11e8_81d2_8c859026d06crow3_col3\" class=\"data row3 col3\" >80.7</td> \n",
       "    </tr>    <tr> \n",
       "        <th id=\"T_63818512_6abb_11e8_81d2_8c859026d06clevel0_row4\" class=\"row_heading level0 row4\" >Griffin High School</th> \n",
       "        <td id=\"T_63818512_6abb_11e8_81d2_8c859026d06crow4_col0\" class=\"data row4 col0\" >83.4</td> \n",
       "        <td id=\"T_63818512_6abb_11e8_81d2_8c859026d06crow4_col1\" class=\"data row4 col1\" >83.7</td> \n",
       "        <td id=\"T_63818512_6abb_11e8_81d2_8c859026d06crow4_col2\" class=\"data row4 col2\" >84.3</td> \n",
       "        <td id=\"T_63818512_6abb_11e8_81d2_8c859026d06crow4_col3\" class=\"data row4 col3\" >84.0</td> \n",
       "    </tr>    <tr> \n",
       "        <th id=\"T_63818512_6abb_11e8_81d2_8c859026d06clevel0_row5\" class=\"row_heading level0 row5\" >Hernandez High School</th> \n",
       "        <td id=\"T_63818512_6abb_11e8_81d2_8c859026d06crow5_col0\" class=\"data row5 col0\" >80.9</td> \n",
       "        <td id=\"T_63818512_6abb_11e8_81d2_8c859026d06crow5_col1\" class=\"data row5 col1\" >80.7</td> \n",
       "        <td id=\"T_63818512_6abb_11e8_81d2_8c859026d06crow5_col2\" class=\"data row5 col2\" >81.4</td> \n",
       "        <td id=\"T_63818512_6abb_11e8_81d2_8c859026d06crow5_col3\" class=\"data row5 col3\" >80.9</td> \n",
       "    </tr>    <tr> \n",
       "        <th id=\"T_63818512_6abb_11e8_81d2_8c859026d06clevel0_row6\" class=\"row_heading level0 row6\" >Holden High School</th> \n",
       "        <td id=\"T_63818512_6abb_11e8_81d2_8c859026d06crow6_col0\" class=\"data row6 col0\" >83.7</td> \n",
       "        <td id=\"T_63818512_6abb_11e8_81d2_8c859026d06crow6_col1\" class=\"data row6 col1\" >83.3</td> \n",
       "        <td id=\"T_63818512_6abb_11e8_81d2_8c859026d06crow6_col2\" class=\"data row6 col2\" >83.8</td> \n",
       "        <td id=\"T_63818512_6abb_11e8_81d2_8c859026d06crow6_col3\" class=\"data row6 col3\" >84.7</td> \n",
       "    </tr>    <tr> \n",
       "        <th id=\"T_63818512_6abb_11e8_81d2_8c859026d06clevel0_row7\" class=\"row_heading level0 row7\" >Huang High School</th> \n",
       "        <td id=\"T_63818512_6abb_11e8_81d2_8c859026d06crow7_col0\" class=\"data row7 col0\" >81.3</td> \n",
       "        <td id=\"T_63818512_6abb_11e8_81d2_8c859026d06crow7_col1\" class=\"data row7 col1\" >81.5</td> \n",
       "        <td id=\"T_63818512_6abb_11e8_81d2_8c859026d06crow7_col2\" class=\"data row7 col2\" >81.4</td> \n",
       "        <td id=\"T_63818512_6abb_11e8_81d2_8c859026d06crow7_col3\" class=\"data row7 col3\" >80.3</td> \n",
       "    </tr>    <tr> \n",
       "        <th id=\"T_63818512_6abb_11e8_81d2_8c859026d06clevel0_row8\" class=\"row_heading level0 row8\" >Johnson High School</th> \n",
       "        <td id=\"T_63818512_6abb_11e8_81d2_8c859026d06crow8_col0\" class=\"data row8 col0\" >81.3</td> \n",
       "        <td id=\"T_63818512_6abb_11e8_81d2_8c859026d06crow8_col1\" class=\"data row8 col1\" >80.8</td> \n",
       "        <td id=\"T_63818512_6abb_11e8_81d2_8c859026d06crow8_col2\" class=\"data row8 col2\" >80.6</td> \n",
       "        <td id=\"T_63818512_6abb_11e8_81d2_8c859026d06crow8_col3\" class=\"data row8 col3\" >81.2</td> \n",
       "    </tr>    <tr> \n",
       "        <th id=\"T_63818512_6abb_11e8_81d2_8c859026d06clevel0_row9\" class=\"row_heading level0 row9\" >Pena High School</th> \n",
       "        <td id=\"T_63818512_6abb_11e8_81d2_8c859026d06crow9_col0\" class=\"data row9 col0\" >83.8</td> \n",
       "        <td id=\"T_63818512_6abb_11e8_81d2_8c859026d06crow9_col1\" class=\"data row9 col1\" >83.6</td> \n",
       "        <td id=\"T_63818512_6abb_11e8_81d2_8c859026d06crow9_col2\" class=\"data row9 col2\" >84.3</td> \n",
       "        <td id=\"T_63818512_6abb_11e8_81d2_8c859026d06crow9_col3\" class=\"data row9 col3\" >84.6</td> \n",
       "    </tr>    <tr> \n",
       "        <th id=\"T_63818512_6abb_11e8_81d2_8c859026d06clevel0_row10\" class=\"row_heading level0 row10\" >Rodriguez High School</th> \n",
       "        <td id=\"T_63818512_6abb_11e8_81d2_8c859026d06crow10_col0\" class=\"data row10 col0\" >81.0</td> \n",
       "        <td id=\"T_63818512_6abb_11e8_81d2_8c859026d06crow10_col1\" class=\"data row10 col1\" >80.6</td> \n",
       "        <td id=\"T_63818512_6abb_11e8_81d2_8c859026d06crow10_col2\" class=\"data row10 col2\" >80.9</td> \n",
       "        <td id=\"T_63818512_6abb_11e8_81d2_8c859026d06crow10_col3\" class=\"data row10 col3\" >80.4</td> \n",
       "    </tr>    <tr> \n",
       "        <th id=\"T_63818512_6abb_11e8_81d2_8c859026d06clevel0_row11\" class=\"row_heading level0 row11\" >Shelton High School</th> \n",
       "        <td id=\"T_63818512_6abb_11e8_81d2_8c859026d06crow11_col0\" class=\"data row11 col0\" >84.1</td> \n",
       "        <td id=\"T_63818512_6abb_11e8_81d2_8c859026d06crow11_col1\" class=\"data row11 col1\" >83.4</td> \n",
       "        <td id=\"T_63818512_6abb_11e8_81d2_8c859026d06crow11_col2\" class=\"data row11 col2\" >84.4</td> \n",
       "        <td id=\"T_63818512_6abb_11e8_81d2_8c859026d06crow11_col3\" class=\"data row11 col3\" >82.8</td> \n",
       "    </tr>    <tr> \n",
       "        <th id=\"T_63818512_6abb_11e8_81d2_8c859026d06clevel0_row12\" class=\"row_heading level0 row12\" >Thomas High School</th> \n",
       "        <td id=\"T_63818512_6abb_11e8_81d2_8c859026d06crow12_col0\" class=\"data row12 col0\" >83.7</td> \n",
       "        <td id=\"T_63818512_6abb_11e8_81d2_8c859026d06crow12_col1\" class=\"data row12 col1\" >84.3</td> \n",
       "        <td id=\"T_63818512_6abb_11e8_81d2_8c859026d06crow12_col2\" class=\"data row12 col2\" >83.6</td> \n",
       "        <td id=\"T_63818512_6abb_11e8_81d2_8c859026d06crow12_col3\" class=\"data row12 col3\" >83.8</td> \n",
       "    </tr>    <tr> \n",
       "        <th id=\"T_63818512_6abb_11e8_81d2_8c859026d06clevel0_row13\" class=\"row_heading level0 row13\" >Wilson High School</th> \n",
       "        <td id=\"T_63818512_6abb_11e8_81d2_8c859026d06crow13_col0\" class=\"data row13 col0\" >83.9</td> \n",
       "        <td id=\"T_63818512_6abb_11e8_81d2_8c859026d06crow13_col1\" class=\"data row13 col1\" >84.0</td> \n",
       "        <td id=\"T_63818512_6abb_11e8_81d2_8c859026d06crow13_col2\" class=\"data row13 col2\" >83.8</td> \n",
       "        <td id=\"T_63818512_6abb_11e8_81d2_8c859026d06crow13_col3\" class=\"data row13 col3\" >84.3</td> \n",
       "    </tr>    <tr> \n",
       "        <th id=\"T_63818512_6abb_11e8_81d2_8c859026d06clevel0_row14\" class=\"row_heading level0 row14\" >Wright High School</th> \n",
       "        <td id=\"T_63818512_6abb_11e8_81d2_8c859026d06crow14_col0\" class=\"data row14 col0\" >83.8</td> \n",
       "        <td id=\"T_63818512_6abb_11e8_81d2_8c859026d06crow14_col1\" class=\"data row14 col1\" >83.8</td> \n",
       "        <td id=\"T_63818512_6abb_11e8_81d2_8c859026d06crow14_col2\" class=\"data row14 col2\" >84.2</td> \n",
       "        <td id=\"T_63818512_6abb_11e8_81d2_8c859026d06crow14_col3\" class=\"data row14 col3\" >84.1</td> \n",
       "    </tr></tbody> \n",
       "</table> "
      ],
      "text/plain": [
       "<pandas.io.formats.style.Styler at 0x1120c5f60>"
      ]
     },
     "execution_count": 22,
     "metadata": {},
     "output_type": "execute_result"
    }
   ],
   "source": [
    "#Reading Scores by Grade \n",
    "#creates grade level average reading scores for each school \n",
    "\n",
    "ninth_grade_reading = students_df.loc[students_df['grade'] == '9th'].groupby('school')[\"reading_score\"].mean()\n",
    "tenth_grade_reading = students_df.loc[students_df['grade']== '10th'].groupby('school')[\"reading_score\"].mean()\n",
    "eleventh_grade_reading= students_df.loc[students_df['grade']== '11th'].groupby('school')[\"reading_score\"].mean()\n",
    "twelveth_grade_reading= students_df.loc[students_df['grade']=='12th'].groupby('school')[\"reading_score\"].mean()\n",
    "\n",
    "reading_scores_by_grade = pd.DataFrame({ '9th': ninth_grade_reading,\n",
    "                                     '10th': tenth_grade_reading, \n",
    "                                     '11th':eleventh_grade_reading, \n",
    "                                     '12th':twelveth_grade_reading})\n",
    "\n",
    "reading_scores_by_grade= reading_scores_by_grade[['9th', '10th', '11th', '12th']]\n",
    "reading_scores_by_grade.index.name = \"School Name\"\n",
    "\n",
    "#style\n",
    "reading_scores_by_grade.style.format({'9th': '{:.1f}', \n",
    "                             \"10th\": '{:.1f}', \n",
    "                             \"11th\": \"{:.1f}\", \n",
    "                             \"12th\": \"{:.1f}\"})\n"
   ]
  },
  {
   "cell_type": "markdown",
   "metadata": {},
   "source": [
    "## SCHOOLS BY SPENDING "
   ]
  },
  {
   "cell_type": "code",
   "execution_count": 23,
   "metadata": {},
   "outputs": [
    {
     "data": {
      "text/html": [
       "<style  type=\"text/css\" >\n",
       "</style>  \n",
       "<table id=\"T_63917af8_6abb_11e8_bb41_8c859026d06c\" > \n",
       "<thead>    <tr> \n",
       "        <th class=\"blank level0\" ></th> \n",
       "        <th class=\"col_heading level0 col0\" >Average Math Score</th> \n",
       "        <th class=\"col_heading level0 col1\" >Average Reading Score</th> \n",
       "        <th class=\"col_heading level0 col2\" >% Passing Math</th> \n",
       "        <th class=\"col_heading level0 col3\" >% Passing Reading</th> \n",
       "        <th class=\"col_heading level0 col4\" >Overall Passing Rate</th> \n",
       "    </tr>    <tr> \n",
       "        <th class=\"index_name level0\" >Spending Ranges (Per Student)</th> \n",
       "        <th class=\"blank\" ></th> \n",
       "        <th class=\"blank\" ></th> \n",
       "        <th class=\"blank\" ></th> \n",
       "        <th class=\"blank\" ></th> \n",
       "        <th class=\"blank\" ></th> \n",
       "    </tr></thead> \n",
       "<tbody>    <tr> \n",
       "        <th id=\"T_63917af8_6abb_11e8_bb41_8c859026d06clevel0_row0\" class=\"row_heading level0 row0\" >< $585</th> \n",
       "        <td id=\"T_63917af8_6abb_11e8_bb41_8c859026d06crow0_col0\" class=\"data row0 col0\" >83.4</td> \n",
       "        <td id=\"T_63917af8_6abb_11e8_bb41_8c859026d06crow0_col1\" class=\"data row0 col1\" >84.0</td> \n",
       "        <td id=\"T_63917af8_6abb_11e8_bb41_8c859026d06crow0_col2\" class=\"data row0 col2\" >94%</td> \n",
       "        <td id=\"T_63917af8_6abb_11e8_bb41_8c859026d06crow0_col3\" class=\"data row0 col3\" >97%</td> \n",
       "        <td id=\"T_63917af8_6abb_11e8_bb41_8c859026d06crow0_col4\" class=\"data row0 col4\" >95%</td> \n",
       "    </tr>    <tr> \n",
       "        <th id=\"T_63917af8_6abb_11e8_bb41_8c859026d06clevel0_row1\" class=\"row_heading level0 row1\" >$585 - 615</th> \n",
       "        <td id=\"T_63917af8_6abb_11e8_bb41_8c859026d06crow1_col0\" class=\"data row1 col0\" >83.5</td> \n",
       "        <td id=\"T_63917af8_6abb_11e8_bb41_8c859026d06crow1_col1\" class=\"data row1 col1\" >83.8</td> \n",
       "        <td id=\"T_63917af8_6abb_11e8_bb41_8c859026d06crow1_col2\" class=\"data row1 col2\" >94%</td> \n",
       "        <td id=\"T_63917af8_6abb_11e8_bb41_8c859026d06crow1_col3\" class=\"data row1 col3\" >96%</td> \n",
       "        <td id=\"T_63917af8_6abb_11e8_bb41_8c859026d06crow1_col4\" class=\"data row1 col4\" >95%</td> \n",
       "    </tr>    <tr> \n",
       "        <th id=\"T_63917af8_6abb_11e8_bb41_8c859026d06clevel0_row2\" class=\"row_heading level0 row2\" >$615 - 645</th> \n",
       "        <td id=\"T_63917af8_6abb_11e8_bb41_8c859026d06crow2_col0\" class=\"data row2 col0\" >78.1</td> \n",
       "        <td id=\"T_63917af8_6abb_11e8_bb41_8c859026d06crow2_col1\" class=\"data row2 col1\" >81.4</td> \n",
       "        <td id=\"T_63917af8_6abb_11e8_bb41_8c859026d06crow2_col2\" class=\"data row2 col2\" >71%</td> \n",
       "        <td id=\"T_63917af8_6abb_11e8_bb41_8c859026d06crow2_col3\" class=\"data row2 col3\" >84%</td> \n",
       "        <td id=\"T_63917af8_6abb_11e8_bb41_8c859026d06crow2_col4\" class=\"data row2 col4\" >78%</td> \n",
       "    </tr>    <tr> \n",
       "        <th id=\"T_63917af8_6abb_11e8_bb41_8c859026d06clevel0_row3\" class=\"row_heading level0 row3\" > $645-675</th> \n",
       "        <td id=\"T_63917af8_6abb_11e8_bb41_8c859026d06crow3_col0\" class=\"data row3 col0\" >77.0</td> \n",
       "        <td id=\"T_63917af8_6abb_11e8_bb41_8c859026d06crow3_col1\" class=\"data row3 col1\" >81.0</td> \n",
       "        <td id=\"T_63917af8_6abb_11e8_bb41_8c859026d06crow3_col2\" class=\"data row3 col2\" >66%</td> \n",
       "        <td id=\"T_63917af8_6abb_11e8_bb41_8c859026d06crow3_col3\" class=\"data row3 col3\" >81%</td> \n",
       "        <td id=\"T_63917af8_6abb_11e8_bb41_8c859026d06crow3_col4\" class=\"data row3 col4\" >74%</td> \n",
       "    </tr></tbody> \n",
       "</table> "
      ],
      "text/plain": [
       "<pandas.io.formats.style.Styler at 0x11009a748>"
      ]
     },
     "execution_count": 23,
     "metadata": {},
     "output_type": "execute_result"
    }
   ],
   "source": [
    "# School_df= District_df\n",
    "# School_df[\"Spending Ranges (per student)\"] = pd.cut(per_student_bdgt, \n",
    "#                                                     bins=spending_bins, labels=group_names)\n",
    "\n",
    "categories = [0, 585, 615, 645, 675]\n",
    "\n",
    "group_name = ['< $585', \"$585 - 615\", \"$615 - 645\", \" $645-675\"]\n",
    "\n",
    "merged_df['spending_bins'] = pd.cut(merged_df['budget']/merged_df['size'], categories, labels = group_name)\n",
    "\n",
    "#group by spending\n",
    "by_spending = merged_df.groupby('spending_bins')\n",
    "\n",
    "#calculations\n",
    "avg_math = by_spending['math_score'].mean()\n",
    "avg_read = by_spending['reading_score'].mean()\n",
    "pass_math = merged_df[merged_df['math_score'] >= 70].groupby('spending_bins')['Student ID'].count()/by_spending['Student ID'].count()\n",
    "pass_read = merged_df[merged_df['reading_score'] >= 70].groupby('spending_bins')['Student ID'].count()/by_spending['Student ID'].count()\n",
    "overall= (pass_math + pass_read)/2\n",
    "            \n",
    "# Score by spending data frame            \n",
    "scores_by_spend = pd.DataFrame({\n",
    "    \"Average Math Score\": round(avg_math, 1),\n",
    "    \"Average Reading Score\": round (avg_read, 1),\n",
    "    '% Passing Math': round(pass_math,2),\n",
    "    '% Passing Reading': round(pass_read,2),\n",
    "    \"Overall Passing Rate\": round(overall, 2)\n",
    "            \n",
    "})\n",
    "            \n",
    "#Organizing columns\n",
    "scores_by_spend = scores_by_spend[[\n",
    "    \"Average Math Score\",\n",
    "    \"Average Reading Score\",\n",
    "    '% Passing Math',\n",
    "    '% Passing Reading',\n",
    "    \"Overall Passing Rate\"\n",
    "]]\n",
    "\n",
    "scores_by_spend.index.name = \"Spending Ranges (Per Student)\"\n",
    "scores_by_spend = scores_by_spend.reindex(group_name)\n",
    "\n",
    "#style \n",
    "scores_by_spend.style.format({'Average Math Score': '{:.1f}', \n",
    "                              'Average Reading Score': '{:.1f}', \n",
    "                              '% Passing Math': '{:.0%}', \n",
    "                              '% Passing Reading':'{:.0%}', \n",
    "                              'Overall Passing Rate': '{:.0%}'})\n",
    " \n",
    "\n",
    "\n",
    "\n"
   ]
  },
  {
   "cell_type": "markdown",
   "metadata": {},
   "source": [
    "## SCORES BY SCHOOLS SIZE"
   ]
  },
  {
   "cell_type": "code",
   "execution_count": 24,
   "metadata": {},
   "outputs": [
    {
     "data": {
      "text/html": [
       "<style  type=\"text/css\" >\n",
       "</style>  \n",
       "<table id=\"T_639ab17a_6abb_11e8_b3c4_8c859026d06c\" > \n",
       "<thead>    <tr> \n",
       "        <th class=\"blank level0\" ></th> \n",
       "        <th class=\"col_heading level0 col0\" >Average Math Score</th> \n",
       "        <th class=\"col_heading level0 col1\" >Average Reading Score</th> \n",
       "        <th class=\"col_heading level0 col2\" >% Passing Math</th> \n",
       "        <th class=\"col_heading level0 col3\" >% Passing Reading</th> \n",
       "        <th class=\"col_heading level0 col4\" >Overall Passing Rate</th> \n",
       "    </tr>    <tr> \n",
       "        <th class=\"index_name level0\" >Total Students</th> \n",
       "        <th class=\"blank\" ></th> \n",
       "        <th class=\"blank\" ></th> \n",
       "        <th class=\"blank\" ></th> \n",
       "        <th class=\"blank\" ></th> \n",
       "        <th class=\"blank\" ></th> \n",
       "    </tr></thead> \n",
       "<tbody>    <tr> \n",
       "        <th id=\"T_639ab17a_6abb_11e8_b3c4_8c859026d06clevel0_row0\" class=\"row_heading level0 row0\" >Small (<1000)</th> \n",
       "        <td id=\"T_639ab17a_6abb_11e8_b3c4_8c859026d06crow0_col0\" class=\"data row0 col0\" >83.8</td> \n",
       "        <td id=\"T_639ab17a_6abb_11e8_b3c4_8c859026d06crow0_col1\" class=\"data row0 col1\" >83.8</td> \n",
       "        <td id=\"T_639ab17a_6abb_11e8_b3c4_8c859026d06crow0_col2\" class=\"data row0 col2\" >94.0%</td> \n",
       "        <td id=\"T_639ab17a_6abb_11e8_b3c4_8c859026d06crow0_col3\" class=\"data row0 col3\" >96.0%</td> \n",
       "        <td id=\"T_639ab17a_6abb_11e8_b3c4_8c859026d06crow0_col4\" class=\"data row0 col4\" >95.0%</td> \n",
       "    </tr>    <tr> \n",
       "        <th id=\"T_639ab17a_6abb_11e8_b3c4_8c859026d06clevel0_row1\" class=\"row_heading level0 row1\" >Medium (1000-2000)</th> \n",
       "        <td id=\"T_639ab17a_6abb_11e8_b3c4_8c859026d06crow1_col0\" class=\"data row1 col0\" >83.4</td> \n",
       "        <td id=\"T_639ab17a_6abb_11e8_b3c4_8c859026d06crow1_col1\" class=\"data row1 col1\" >83.4</td> \n",
       "        <td id=\"T_639ab17a_6abb_11e8_b3c4_8c859026d06crow1_col2\" class=\"data row1 col2\" >93.6%</td> \n",
       "        <td id=\"T_639ab17a_6abb_11e8_b3c4_8c859026d06crow1_col3\" class=\"data row1 col3\" >96.8%</td> \n",
       "        <td id=\"T_639ab17a_6abb_11e8_b3c4_8c859026d06crow1_col4\" class=\"data row1 col4\" >95.2%</td> \n",
       "    </tr>    <tr> \n",
       "        <th id=\"T_639ab17a_6abb_11e8_b3c4_8c859026d06clevel0_row2\" class=\"row_heading level0 row2\" >Large (>2000)</th> \n",
       "        <td id=\"T_639ab17a_6abb_11e8_b3c4_8c859026d06crow2_col0\" class=\"data row2 col0\" >77.5</td> \n",
       "        <td id=\"T_639ab17a_6abb_11e8_b3c4_8c859026d06crow2_col1\" class=\"data row2 col1\" >77.5</td> \n",
       "        <td id=\"T_639ab17a_6abb_11e8_b3c4_8c859026d06crow2_col2\" class=\"data row2 col2\" >68.7%</td> \n",
       "        <td id=\"T_639ab17a_6abb_11e8_b3c4_8c859026d06crow2_col3\" class=\"data row2 col3\" >82.1%</td> \n",
       "        <td id=\"T_639ab17a_6abb_11e8_b3c4_8c859026d06crow2_col4\" class=\"data row2 col4\" >75.4%</td> \n",
       "    </tr></tbody> \n",
       "</table> "
      ],
      "text/plain": [
       "<pandas.io.formats.style.Styler at 0x11009a710>"
      ]
     },
     "execution_count": 24,
     "metadata": {},
     "output_type": "execute_result"
    }
   ],
   "source": [
    "\n",
    "# create size bins\n",
    "bins = [0, 1000, 2000, 5000]\n",
    "group_name = [\"Small (<1000)\", \"Medium (1000-2000)\" , \"Large (>2000)\"]\n",
    "merged_df['size_bins'] = pd.cut(merged_df['size'], bins, labels = group_name)\n",
    "\n",
    "#group by spending\n",
    "by_size = merged_df.groupby('size_bins')\n",
    "\n",
    "#calculations \n",
    "avg_math = by_size['math_score'].mean()\n",
    "avg_read = by_size['math_score'].mean()\n",
    "pass_math = merged_df[merged_df['math_score'] >= 70].groupby('size_bins')['Student ID'].count()/by_size['Student ID'].count()\n",
    "pass_read = merged_df[merged_df['reading_score'] >= 70].groupby('size_bins')['Student ID'].count()/by_size['Student ID'].count()\n",
    "overall = (pass_math + pass_read)/2\n",
    "\n",
    "            \n",
    "# df build            \n",
    "scores_by_size = pd.DataFrame({\n",
    "    \"Average Math Score\": avg_math,\n",
    "    \"Average Reading Score\": avg_read,\n",
    "    '% Passing Math': pass_math,\n",
    "    '% Passing Reading': pass_read,\n",
    "    \"Overall Passing Rate\": overall\n",
    "            \n",
    "})\n",
    "            \n",
    "#reorder columns\n",
    "scores_by_size = scores_by_size[[\n",
    "    \"Average Math Score\",\n",
    "    \"Average Reading Score\",\n",
    "    '% Passing Math',\n",
    "    '% Passing Reading',\n",
    "    \"Overall Passing Rate\"\n",
    "]]\n",
    "\n",
    "scores_by_size.index.name = \"Total Students\"\n",
    "scores_by_size = scores_by_size.reindex(group_name)\n",
    "\n",
    "#style\n",
    "scores_by_size.style.format({'Average Math Score': '{:.1f}', \n",
    "                              'Average Reading Score': '{:.1f}', \n",
    "                              '% Passing Math': '{:.1%}', \n",
    "                              '% Passing Reading':'{:.1%}', \n",
    "                              'Overall Passing Rate': '{:.1%}'})"
   ]
  },
  {
   "cell_type": "markdown",
   "metadata": {},
   "source": [
    "## SCORES BY SCHOOL TYPE "
   ]
  },
  {
   "cell_type": "code",
   "execution_count": 25,
   "metadata": {},
   "outputs": [
    {
     "data": {
      "text/html": [
       "<style  type=\"text/css\" >\n",
       "</style>  \n",
       "<table id=\"T_63a1acf4_6abb_11e8_99ec_8c859026d06c\" > \n",
       "<thead>    <tr> \n",
       "        <th class=\"blank level0\" ></th> \n",
       "        <th class=\"col_heading level0 col0\" >Average Math Score</th> \n",
       "        <th class=\"col_heading level0 col1\" >Average Reading Score</th> \n",
       "        <th class=\"col_heading level0 col2\" >% Passing Math</th> \n",
       "        <th class=\"col_heading level0 col3\" >% Passing Reading</th> \n",
       "        <th class=\"col_heading level0 col4\" >Overall Passing Rate</th> \n",
       "    </tr>    <tr> \n",
       "        <th class=\"index_name level0\" >Type of School</th> \n",
       "        <th class=\"blank\" ></th> \n",
       "        <th class=\"blank\" ></th> \n",
       "        <th class=\"blank\" ></th> \n",
       "        <th class=\"blank\" ></th> \n",
       "        <th class=\"blank\" ></th> \n",
       "    </tr></thead> \n",
       "<tbody>    <tr> \n",
       "        <th id=\"T_63a1acf4_6abb_11e8_99ec_8c859026d06clevel0_row0\" class=\"row_heading level0 row0\" >Charter</th> \n",
       "        <td id=\"T_63a1acf4_6abb_11e8_99ec_8c859026d06crow0_col0\" class=\"data row0 col0\" >83.4</td> \n",
       "        <td id=\"T_63a1acf4_6abb_11e8_99ec_8c859026d06crow0_col1\" class=\"data row0 col1\" >83.4</td> \n",
       "        <td id=\"T_63a1acf4_6abb_11e8_99ec_8c859026d06crow0_col2\" class=\"data row0 col2\" >93.7%</td> \n",
       "        <td id=\"T_63a1acf4_6abb_11e8_99ec_8c859026d06crow0_col3\" class=\"data row0 col3\" >96.6%</td> \n",
       "        <td id=\"T_63a1acf4_6abb_11e8_99ec_8c859026d06crow0_col4\" class=\"data row0 col4\" >95.2%</td> \n",
       "    </tr>    <tr> \n",
       "        <th id=\"T_63a1acf4_6abb_11e8_99ec_8c859026d06clevel0_row1\" class=\"row_heading level0 row1\" >District</th> \n",
       "        <td id=\"T_63a1acf4_6abb_11e8_99ec_8c859026d06crow1_col0\" class=\"data row1 col0\" >77.0</td> \n",
       "        <td id=\"T_63a1acf4_6abb_11e8_99ec_8c859026d06crow1_col1\" class=\"data row1 col1\" >77.0</td> \n",
       "        <td id=\"T_63a1acf4_6abb_11e8_99ec_8c859026d06crow1_col2\" class=\"data row1 col2\" >66.5%</td> \n",
       "        <td id=\"T_63a1acf4_6abb_11e8_99ec_8c859026d06crow1_col3\" class=\"data row1 col3\" >80.9%</td> \n",
       "        <td id=\"T_63a1acf4_6abb_11e8_99ec_8c859026d06crow1_col4\" class=\"data row1 col4\" >73.7%</td> \n",
       "    </tr></tbody> \n",
       "</table> "
      ],
      "text/plain": [
       "<pandas.io.formats.style.Styler at 0x11008fa58>"
      ]
     },
     "execution_count": 25,
     "metadata": {},
     "output_type": "execute_result"
    }
   ],
   "source": [
    "# group by type of school\n",
    "by_type = merged_df.groupby(\"type\")\n",
    "\n",
    "#calculations \n",
    "avg_math = by_type['math_score'].mean()\n",
    "avg_read = by_type['math_score'].mean()\n",
    "pass_math = merged_df[merged_df['math_score'] >= 70].groupby('type')['Student ID'].count()/by_type['Student ID'].count()\n",
    "pass_read = merged_df[merged_df['reading_score'] >= 70].groupby('type')['Student ID'].count()/by_type['Student ID'].count()\n",
    "overall= (pass_math + pass_read)/2\n",
    "# DataFrame            \n",
    "scores_by_type = pd.DataFrame({\n",
    "    \"Average Math Score\": avg_math,\n",
    "    \"Average Reading Score\": avg_read,\n",
    "    '% Passing Math': pass_math,\n",
    "    '% Passing Reading': pass_read,\n",
    "    \"Overall Passing Rate\": overall})\n",
    "    \n",
    "#reorder columns\n",
    "scores_by_type = scores_by_type[[\n",
    "    \"Average Math Score\",\n",
    "    \"Average Reading Score\",\n",
    "    '% Passing Math',\n",
    "    '% Passing Reading',\n",
    "    \"Overall Passing Rate\"\n",
    "]]\n",
    "scores_by_type.index.name = \"Type of School\"\n",
    "\n",
    "\n",
    "#style \n",
    "scores_by_type.style.format({'Average Math Score': '{:.1f}', \n",
    "                              'Average Reading Score': '{:.1f}', \n",
    "                              '% Passing Math': '{:.1%}', \n",
    "                              '% Passing Reading':'{:.1%}', \n",
    "                              'Overall Passing Rate': '{:.1%}'})"
   ]
  },
  {
   "cell_type": "code",
   "execution_count": null,
   "metadata": {},
   "outputs": [],
   "source": []
  }
 ],
 "metadata": {
  "kernelspec": {
   "display_name": "Python 3",
   "language": "python",
   "name": "python3"
  },
  "language_info": {
   "codemirror_mode": {
    "name": "ipython",
    "version": 3
   },
   "file_extension": ".py",
   "mimetype": "text/x-python",
   "name": "python",
   "nbconvert_exporter": "python",
   "pygments_lexer": "ipython3",
   "version": "3.6.4"
  }
 },
 "nbformat": 4,
 "nbformat_minor": 2
}
